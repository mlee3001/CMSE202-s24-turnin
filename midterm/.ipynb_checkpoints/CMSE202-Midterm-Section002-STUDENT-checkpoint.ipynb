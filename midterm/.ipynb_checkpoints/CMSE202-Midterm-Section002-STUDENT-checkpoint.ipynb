{
 "cells": [
  {
   "cell_type": "markdown",
   "metadata": {},
   "source": [
    "## <p style=\"text-align: right;\"> &#9989; Put your name here</p>"
   ]
  },
  {
   "cell_type": "markdown",
   "metadata": {},
   "source": [
    "# CMSE 202 Midterm - Section 002 - Spring 2024 (80 points total)\n",
    "\n",
    "The goal of this midterm is to give you the opportunity to test out some of the skills that you've developed thus far this semester. In particular, you'll practice setting up a GitHub repository, committing and pushing repository changes, downloading data with command line tools, performing some data analysis, possibly using a new Python package, and writing a python class. You should find that you have all of the skills necessary to complete this exam with even just eight weeks of CMSE 202 under your belt!\n",
    "\n",
    "You are encouraged to look through the entire exam before you get started so that you can appropriately budget your time and understand the broad goals of the exam. Once you've read through it, try doing Parts 0 and 1 first so that you have your repository set up and you download all necessary data files as they will be necessary to complete the assigned tasks. Let your instructor know right away if you have problems downloading the data!\n",
    "\n",
    "The exam is set up so that even if you get stuck on one part there are opportunities to get points on the other parts, so consider jumping ahead if you feel like you aren't making progress and then come back later if you have time. If you have any questions during the exam, you may ask the instructor, the TA, or the LA privately: simply raise your hand and one of us will come over to you. \n",
    "\n",
    "\n",
    "**Important note about using online resources**: This exam is \"open internet\". That means that you can look up documentation, google how to accomplish certain Python tasks, etc. Being able to effectively use the internet for computational modeling and data science is a very important skill, so we want to make sure you have the opportunity to exercise that skill. **However: The use of any person-to-person communication software or generative AI tools is absolutely not acceptable.** If you are seen accessing your email, using a collaborative cloud storage or document software (e.g. Slack, Google Documents), or generative AIs (e.g. ChatGPT), you will be at risk for receiving a zero on the exam.\n",
    "\n",
    "**Keep your eyes on your screen!** Unfortunately, there isn't enough space in the room for everyone to sit at their own table so please do your best to keep your eyes on your own screen. This exam is designed to give *you* the opportunity to show the instructor what you can do and you should hold yourself accountable for maintaining a high level of academic integrity. If any of the instructors observe suspicious behavior, you will, again, risk receiving a zero."
   ]
  },
  {
   "cell_type": "markdown",
   "metadata": {},
   "source": [
    "---\n",
    "## Part 0: Academic integrity statement\n",
    "\n",
    "Read the following statement and edit the markdown text to put your name in the statement. This is your commitment to doing your own authentic work on this exam."
   ]
  },
  {
   "cell_type": "markdown",
   "metadata": {},
   "source": [
    "> I, **INSERT NAME HERE**, affirm that this exam represents my own authetic work, without the use of any unpermitted aids or generative AIs or person-to-person communication. I understand that this exam an an opportunity to showcase my own progress in developing and improving my computational skills and have done my best to demonstrate those skills."
   ]
  },
  {
   "cell_type": "markdown",
   "metadata": {},
   "source": [
    "## Part 1: Add to your Git repository to track your progress on your exam (12 points total)\n",
    "\n",
    "Before you get to far along in the exam, you're going to add it to the `cmse202-s24-turnin` repository you created in class (or in Homework 1) so that you can track your progress on the exam and preserve the final version that you turn in. In order to do this you need to\n",
    "\n",
    "1. Navigate to your `cmse202-s24-turnin` repository and create a new directory called `midterm`.\n",
    "2. Move this notebook into that **new directory** in your repository, then **add it and commit it to your repository**.\n",
    "3. Finally, to test that everything is working, \"git push\" the file so that it ends up in your GitHub repository.\n",
    "\n",
    "**Important**: Double check you've added your Professor and your TA as collaborators to your \"turnin\" respository (you should have done this in the previous homework assignment).\n",
    "\n",
    "**Important**: Make sure that the version of this notebook that you are working on is the same one that you just added to your repository! If you are working on a different copy of the noteobok, **none of your changes will be tracked**!\n",
    "\n",
    "The file should now show up on your GitHub account in the `cmse202-s24-turnin` repository inside the `midterm` directory you just created.  Periodically, **you'll be asked to commit your changes to the repository and push them to the remote GitHub location**. It can be good to get into a habit of committing your changes any time you make a significant modification.\n",
    "\n",
    "&#9989; **Do this**: Before you move on, put the command that your instructor should run to clone your repository in the markdown cell below."
   ]
  },
  {
   "cell_type": "markdown",
   "metadata": {},
   "source": [
    "``` bash\n",
    "# Put the command for cloning your repository here!\n",
    "\n",
    "```"
   ]
  },
  {
   "cell_type": "markdown",
   "metadata": {},
   "source": [
    "---\n",
    "## Part 2: Downloading and analyzing unfamiliar data (25 points)"
   ]
  },
  {
   "cell_type": "markdown",
   "metadata": {},
   "source": [
    "In this part of the exam, you will use load and visualize a dataset that you probably have not used before. In particular, you will be working with data on several LEGO sets. Some information about the dataset can be found here https://www.kaggle.com/datasets/rtatman/lego-database.\n",
    "\n",
    "To get started, you will need to download the file - `lego.csv` from this link:\n",
    "* `https://raw.githubusercontent.com/skarnik1337/cmse202sec002s24midterm/main/lego.csv`\n",
    "\n",
    "The file is also on D2L. Note that this file is different than the one on Kaggle in that a few columns have been removed to reduce the filesize by 60%."
   ]
  },
  {
   "cell_type": "markdown",
   "metadata": {},
   "source": [
    "&#9989; **Question 2.1 (1 point)**: **Do this now:** Save this file in the same directory as your notebook so you can load it directly. **Then, in the cell below, put the command line command(s) you used to download the files.** If you did not use a command line tool to download the files, write down the command(s) that *would* have downloaded the files."
   ]
  },
  {
   "cell_type": "markdown",
   "metadata": {},
   "source": [
    "``` bash\n",
    "# Put the command(s) you used for downloading the lego.csv file here!\n",
    "\n",
    "```"
   ]
  },
  {
   "cell_type": "markdown",
   "metadata": {},
   "source": [
    "&#9989; **Question 2.2 (2 points)**: Read in the `lego.csv` dataset into a `Pandas` `DataFrame` and then display the first few rows and the last few rows. Note that this csv file already has column headers in the first row."
   ]
  },
  {
   "cell_type": "code",
   "execution_count": null,
   "metadata": {},
   "outputs": [],
   "source": [
    "# Put your code for Question 2.2 here"
   ]
  },
  {
   "cell_type": "markdown",
   "metadata": {},
   "source": [
    "### Yes, there are a lot of `NaN` values in this dataset. For Questions 2.3 and 2.4, leave all the rows in the `DataFrame`, even if they have `NaN` vaues. \n",
    "\n",
    "&#9989; **Question 2.3 (9 points total)**: For each of the five questions below, write a **short** amount of code to answer the question. **Note that you must use code to figure out the answer. Viewing part or all of dataframe and manually observing/counting to get the answer will not receive full credit.**"
   ]
  },
  {
   "cell_type": "markdown",
   "metadata": {},
   "source": [
    "&#9989; **Question 2.3.1 (1 point)**: How many LEGO sets/rows are in this dataset?"
   ]
  },
  {
   "cell_type": "code",
   "execution_count": null,
   "metadata": {},
   "outputs": [],
   "source": [
    "# Put your code for Question 2.3.1 here"
   ]
  },
  {
   "cell_type": "markdown",
   "metadata": {},
   "source": [
    "&#9989; **Question 2.3.2 (1 point)**: How many fields/features/columns does this dataset have?"
   ]
  },
  {
   "cell_type": "code",
   "execution_count": null,
   "metadata": {},
   "outputs": [],
   "source": [
    "# Put your code for Question 2.3.2 here"
   ]
  },
  {
   "cell_type": "markdown",
   "metadata": {},
   "source": [
    "&#9989; **Question 2.3.3 (1 point)**: What are all the unique categories of LEGO sets in this dataset? Your code's output should not list any category twice."
   ]
  },
  {
   "cell_type": "code",
   "execution_count": null,
   "metadata": {},
   "outputs": [],
   "source": [
    "# Put your code for Question 2.3.3 here"
   ]
  },
  {
   "cell_type": "markdown",
   "metadata": {},
   "source": [
    "&#9989; **Question 2.3.4 (1 point)**: How many unique themes of LEGO sets are in this dataset?"
   ]
  },
  {
   "cell_type": "code",
   "execution_count": null,
   "metadata": {},
   "outputs": [],
   "source": [
    "# Put your code for Question 2.3.4 here"
   ]
  },
  {
   "cell_type": "markdown",
   "metadata": {},
   "source": [
    "&#9989; **Question 2.3.5 (1 points)**: What is the greatest number of pieces of a LEGO set in this dataset?"
   ]
  },
  {
   "cell_type": "code",
   "execution_count": null,
   "metadata": {},
   "outputs": [],
   "source": [
    "# Put your code for Question 2.3.5 here"
   ]
  },
  {
   "cell_type": "markdown",
   "metadata": {},
   "source": [
    "&#9989; **Question 2.3.6 (2 points)**: What is the name of the LEGO set in this dataset with the highest US retail price? Note that we want the **name** of the set, not its price. If multiple LEGO sets are tied for the highest US retail price, you can just name just one of them or all of them (whichever is easier for you)."
   ]
  },
  {
   "cell_type": "code",
   "execution_count": null,
   "metadata": {},
   "outputs": [],
   "source": [
    "# Put your code for Question 2.3.6 here"
   ]
  },
  {
   "cell_type": "markdown",
   "metadata": {},
   "source": [
    "&#9989; **Question 2.3.7 (2 points)**: According to this dataset, what was the latest year in which a LEGO set with a themeGroup of 'Vintage' was produced?"
   ]
  },
  {
   "cell_type": "code",
   "execution_count": null,
   "metadata": {},
   "outputs": [],
   "source": [
    "# Put your code for Question 2.3.7 here"
   ]
  },
  {
   "cell_type": "markdown",
   "metadata": {},
   "source": [
    "**Reminder**: If you are having trouble with parts of Question 2.3, don't forget that you can use your favorite search engine to lookup how to do certain tasks with a `Pandas` `DataFrame`."
   ]
  },
  {
   "cell_type": "markdown",
   "metadata": {},
   "source": [
    "Now that you are more acquainted with the LEGO sets data in your `DataFrame`, let's start making some visualizations of this data.\n",
    "\n",
    "&#9989; **Question 2.4 (4 points)**: Make a histogram showing the number of LEGO sets produced each year. **Set the bins of the histogram so that there is one bin for each year.** There are 53 years between 1970 and 2022 inclusive. Also, make sure to label your axes and give your plot a title."
   ]
  },
  {
   "cell_type": "code",
   "execution_count": null,
   "metadata": {},
   "outputs": [],
   "source": [
    "# Put your code for Question 2.4 here"
   ]
  },
  {
   "cell_type": "markdown",
   "metadata": {},
   "source": [
    "&#9989; **Question 2.5 (2 points)**: Now, create a **new dataframe** which contains only the rows of the dataframe without any `NaN` values. Be sure to store it in a new variable instead of overwriting the previous variable. In particular, this will prevent you from getting different answers if you rerun some of the cells above. Display the first few rows and the last few rows to visually check that the `NaN` values were indeed dropped."
   ]
  },
  {
   "cell_type": "code",
   "execution_count": null,
   "metadata": {},
   "outputs": [],
   "source": [
    "# Put your code for Question 2.5 here"
   ]
  },
  {
   "cell_type": "markdown",
   "metadata": {},
   "source": [
    "### For Questions 2.6 and 2.7, use just this new `DataFrame` which dropped the rows with `NaN` values.\n",
    "\n",
    "&#9989; **Question 2.6 (3 points)**: Make a scatterplot showing the number of pieces on the x-axis and the US retail price on the y-axis. **Again, make sure to label your axes and give your plot a title.**"
   ]
  },
  {
   "cell_type": "code",
   "execution_count": null,
   "metadata": {},
   "outputs": [],
   "source": [
    "# Put your code for Question 2.6 here"
   ]
  },
  {
   "cell_type": "markdown",
   "metadata": {},
   "source": [
    "&#9989; **Question 2.7 (2 points)**: Describe the general relationship between the US retail price and the number of pieces of LEGO sets? Briefly explain why this relationship makes sense."
   ]
  },
  {
   "cell_type": "markdown",
   "metadata": {},
   "source": [
    "**<font size=+3>&#9998;</font> Do This**: **Write your answer to Question 2.7 here.**"
   ]
  },
  {
   "cell_type": "markdown",
   "metadata": {},
   "source": [
    "&#9989; **Question 2.8 (2 points)**: Suppose we wanted to look at the relationships between every pair of numerical features. What specific Python/Pandas fucntion(s)/tool(s) could you use to do this efficiently, i.e., without writing for loops or manually making a figure for every pair of numerical features? Note that you do not need to actually make a figure for this, just stating which function(s)/tool(s) you'd use is sufficient."
   ]
  },
  {
   "cell_type": "markdown",
   "metadata": {},
   "source": [
    "**<font size=+3>&#9998;</font> Do This**: **Write your answer to Question 2.8 here.**"
   ]
  },
  {
   "cell_type": "markdown",
   "metadata": {},
   "source": [
    "---\n",
    "### &#128721; STOP\n",
    "**Pause to commit your changes to your Git repository!**\n",
    "\n",
    "Take a moment to save your notebook, commit the changes to your Git repository using the commit message \"**Committing Part 2**\", and push the changes to GitHub.\n",
    "\n",
    "---"
   ]
  },
  {
   "cell_type": "markdown",
   "metadata": {},
   "source": [
    "---\n",
    "## Part 3: Working with a new Python package (16 points)"
   ]
  },
  {
   "cell_type": "markdown",
   "metadata": {},
   "source": [
    "In this part of the exam, you will install a Python package that you probably have not used before, and use it to perform a simple task. Specifically, you will use a package called `Faker` to perform some tasks that involve generating different types of fake data. The documentation and some example code can be found at https://faker.readthedocs.io/en/master/."
   ]
  },
  {
   "cell_type": "markdown",
   "metadata": {},
   "source": [
    "&#9989; **Question 3.1 (2 points)**: The `faker` package is probably not already installed on your machine. However, you should be able to install the package in the same way we have used previously to install Python packages.\n",
    "\n",
    "**Do this**: Install the `faker` Python package.\n",
    "\n",
    "What command did you use to install `faker`? **Include this command in the cell below.**"
   ]
  },
  {
   "cell_type": "markdown",
   "metadata": {},
   "source": [
    "``` bash\n",
    "# Put the command for installing `faker` here!\n",
    "\n",
    "```"
   ]
  },
  {
   "cell_type": "markdown",
   "metadata": {},
   "source": [
    "Once `faker` is installed, running the following cell should not result in an error message. **You might need to re-start your Jupyter kernel after installing the package for this to work.** (Once everything works, it should give you no output at all.)"
   ]
  },
  {
   "cell_type": "code",
   "execution_count": null,
   "metadata": {},
   "outputs": [],
   "source": [
    "# Running this cell should just work and not yield any output if faker is installed and available\n",
    "from faker import Faker"
   ]
  },
  {
   "cell_type": "markdown",
   "metadata": {},
   "source": [
    "&#9989; **Question 3.2 (5 points total)**: Using the `faker` package, do the following simple tasks. Each task should only require a very short amount of code, and the documentation should cover how to do it.\n",
    "\n",
    "&#9989; **Question 3.2.1 (1 point)**: Using the `faker` package, generate a fake name."
   ]
  },
  {
   "cell_type": "code",
   "execution_count": null,
   "metadata": {},
   "outputs": [],
   "source": [
    "# Put your code for Question 3.2.1 here"
   ]
  },
  {
   "cell_type": "markdown",
   "metadata": {},
   "source": [
    "&#9989; **Question 3.2.2 (1 point)**: Using the `faker` package, generate a fake mailing address."
   ]
  },
  {
   "cell_type": "code",
   "execution_count": null,
   "metadata": {},
   "outputs": [],
   "source": [
    "# Put your code for Question 3.2.2 here"
   ]
  },
  {
   "cell_type": "markdown",
   "metadata": {},
   "source": [
    "&#9989; **Question 3.2.3 (1 point)**: Using the `faker` package, generate a fake email address."
   ]
  },
  {
   "cell_type": "code",
   "execution_count": null,
   "metadata": {},
   "outputs": [],
   "source": [
    "# Put your code for Question 3.2.3 here"
   ]
  },
  {
   "cell_type": "markdown",
   "metadata": {},
   "source": [
    "&#9989; **Question 3.2.4 (1 point)**: Using the `faker` package, generate a fake company name."
   ]
  },
  {
   "cell_type": "code",
   "execution_count": null,
   "metadata": {},
   "outputs": [],
   "source": [
    "# Put your code for Question 3.2.4 here"
   ]
  },
  {
   "cell_type": "markdown",
   "metadata": {},
   "source": [
    "&#9989; **Question 3.2.5 (1 point)**: Using the `faker` package, generate a fake date."
   ]
  },
  {
   "cell_type": "code",
   "execution_count": null,
   "metadata": {},
   "outputs": [],
   "source": [
    "# Put your code for Question 3.2.5 here"
   ]
  },
  {
   "cell_type": "markdown",
   "metadata": {},
   "source": [
    "&#9989; **Question 3.3 (6 points)**: Now that you've had a bit of practice with the `faker` package, let's make a fake database. Create a `Pandas` `DataFrame` with 100 rows and the columns `\"Name\"`, `\"Date of Birth\"`, `\"Address\"`, `\"Email\"`, and `\"Employer\"`. Then, populate the rows with fake data that is appropriate for the column (so the `\"Name\"` column should look like a name, the `\"Date of Birth\"` column should look like a date, etc. Don't worry if some of the fake people you generate are too old/young to be employed). Finally, display the `DataFrame`."
   ]
  },
  {
   "cell_type": "code",
   "execution_count": null,
   "metadata": {},
   "outputs": [],
   "source": [
    "# Put your code for Question 3.3 here"
   ]
  },
  {
   "cell_type": "markdown",
   "metadata": {},
   "source": [
    "&#9989; **Question 3.4 (3 points)**: Now, create a new `Faker()` object with a non-English locale, and repeat the steps of Question 3.3 but with this `Faker()` object, i.e. generate fake name, address, email, employer, and date-of-birth data for 100 people. Your fake database for this question should look like it contains data for people from a non-English speaking country. You can leave the column headers in English though."
   ]
  },
  {
   "cell_type": "code",
   "execution_count": null,
   "metadata": {},
   "outputs": [],
   "source": [
    "# Put your code for Question 3.4 here"
   ]
  },
  {
   "cell_type": "markdown",
   "metadata": {},
   "source": [
    "---\n",
    "### &#128721; STOP\n",
    "**Pause to commit your changes to your Git repository!**\n",
    "\n",
    "Take a moment to save your notebook, commit the changes to your Git repository using the commit message \"**Committing Part 3**\", and push the changes to GitHub.\n",
    "\n",
    "---"
   ]
  },
  {
   "cell_type": "markdown",
   "metadata": {},
   "source": [
    "---\n",
    "## Part 4: Writing and using Python classes (27 points)"
   ]
  },
  {
   "cell_type": "markdown",
   "metadata": {},
   "source": [
    "In this part of the exam, you will practice using object-oriented programming (OOP) to write code that could be used as part of a role-playing game (RPG). Obviously, we won't be able to build an interesting RPG during the limited time of this exam. However, we can write some fairly generic code that could be used to (1) keep track of the amount of coins and items a player has, and (2) allow players to buy and sell items to each other. \n",
    "\n",
    "&#9989; **Do This**: To get started, run the code cell below, but **DO NOT modify it.**"
   ]
  },
  {
   "cell_type": "code",
   "execution_count": null,
   "metadata": {},
   "outputs": [],
   "source": [
    "### RUN THIS CELL, BUT DO NOT MODIFY IT\n",
    "### RUN THIS CELL, BUT DO NOT MODIFY IT\n",
    "class Player:\n",
    "    '''\n",
    "    Class for a player in a role playing game. Keeps track of coins and items a Player has.\n",
    "    name: string containing the Player's name\n",
    "    coins: number of coins the Player has\n",
    "    inventory: dictionary whose keys are strings representing items \n",
    "        and values are the number of each item the Player has\n",
    "        e.g. {\"potion\": 2, \"sword\": 1} would mean the Player has 2 potions and 1 sword\n",
    "    '''\n",
    "    \n",
    "    def __init__(self,name,coins=0):\n",
    "        '''\n",
    "        Creates a new Player object with a name, a number of coins (default 0), and an empty inventory\n",
    "        '''\n",
    "        self.name = name\n",
    "        self.coins = coins\n",
    "        self.inventory = {}\n",
    "        \n",
    "    def add_coins(self,amount):\n",
    "        '''\n",
    "        To be used when the Player finds some amount of coins in the game\n",
    "        Increase the number of coins the Player has by amount     \n",
    "        '''\n",
    "        self.coins += amount\n",
    "        \n",
    "    def add_items(self,item,quantity=1):\n",
    "        '''\n",
    "        To be used when the Player finds some quantity of an item in the game\n",
    "        Add some quantity (default 1) of an item to the Player's inventory\n",
    "        '''\n",
    "        if item not in self.inventory:\n",
    "            self.inventory[item] = 0\n",
    "        self.inventory[item] += quantity\n",
    "    \n",
    "    def can_afford(self,amount):\n",
    "        '''\n",
    "        Check if Player can make afford to make a purchase for an amount of coins\n",
    "        Will be called by MarketPlace before Player can buy items\n",
    "        '''\n",
    "        return self.coins >= amount\n",
    "    \n",
    "    def has_items(self,item,quantity=1):\n",
    "        '''\n",
    "        Check if Player has at least some quantity of a specified item\n",
    "        Will be called by MarketPlace before Player can sell items\n",
    "        '''\n",
    "        if item not in self.inventory:\n",
    "            return False\n",
    "        else:\n",
    "            return self.inventory[item] >= quantity\n",
    "    \n",
    "    def buy_items(self,item,price,quantity=1):\n",
    "        '''\n",
    "        To be used when the Player wants to buy some quantity of an item\n",
    "        Add specified quantity of item to the Player's inventory and reduce the Player's amount of coins\n",
    "        Assumes Player can afford to buy the item(s)\n",
    "        '''\n",
    "        if item not in self.inventory:\n",
    "            self.inventory[item] = 0\n",
    "        self.inventory[item] += quantity\n",
    "        self.coins -= price*quantity\n",
    "        \n",
    "    def sell_items(self,item,price,quantity=1):\n",
    "        '''\n",
    "        To be used when the Player wants to sell some quantity of an item\n",
    "        Remove specified quantity of item from the Player's inventory and increase the Player's amount of coins\n",
    "        Assumes Player has the item(s) to sell\n",
    "        '''\n",
    "        self.inventory[item] -= quantity\n",
    "        self.coins += price*quantity\n",
    "### RUN THIS CELL, BUT DO NOT MODIFY IT\n",
    "### RUN THIS CELL, BUT DO NOT MODIFY IT"
   ]
  },
  {
   "cell_type": "markdown",
   "metadata": {},
   "source": [
    "&#9989; **Question 4.1 (7 points)**: **Do this**: The cell above contains a `Player` class that can be used to keep track of the amount of coins and items that a player has. Read the docstrings in the above code to get a sense of how it works. Then, to verify that this class works as intended, use the `Player` class methods to do the following in order in the cell below: \n",
    "\n",
    "1. Create a Player object for yourself. Its name attribute should be your name, and you should start with 100 coins. \n",
    "\n",
    "2. Add three \"potion\"s to your inventory\n",
    "\n",
    "3. Add one \"shield\" to your inventory\n",
    "\n",
    "4. Print your coins and inventory attributes\n",
    "\n",
    "5. Buy one \"sword\" for 50 coins (checking if you can afford it is not necessary)\n",
    "\n",
    "6. Sell two \"potion\"s for 10 coins each (checking if you have at least two \"potion\"s is not necessary)\n",
    "\n",
    "7. Print your coins and inventory attributes"
   ]
  },
  {
   "cell_type": "code",
   "execution_count": null,
   "metadata": {},
   "outputs": [],
   "source": [
    "# Put your code for Question 4.1 here"
   ]
  },
  {
   "cell_type": "markdown",
   "metadata": {},
   "source": [
    "If everything worked, you should have 100 coins, 3 potions, and 1 shield when you print your coins and inventory for the first time, and you should have 70 coins, 1 potion, 1 shield, and 1 sword when you print your coins and inventory for the second time."
   ]
  },
  {
   "cell_type": "markdown",
   "metadata": {},
   "source": [
    "&#9989; **Question 4.2 (20 points)**: Next, we will create a `MarketPlace` Class to keep track of `Player`s and handle transactions. This class will have a dictionary whose keys are the strings with `Player` names and whose values are the `Player` objects.  \n",
    "\n",
    "\n",
    "**Do this**: Write code for the `MarketPlace` class by following the directions. \n",
    "\n",
    "* Create an `__init__()` method which has just the one argument all class methods have. The `__init__()` method should create a `players` attribute which should be initialized as an **empty Python dictionary**.\n",
    "\n",
    "\n",
    "* Create an `add_player()` method which has the argument all class methods have and an argument called `player` which will contain a `Player` object. It should add a new key-value pair to the `players` attribute. The key should be the `name` attribute of the `Player` object. The value should be the `Player` object itself.\n",
    "\n",
    "\n",
    "* Create a `disp_status()` method which has just the one argument all class methods have. The `disp_status()` method should iterate through all the `Player` objects in the `players` dictionary and do the following\n",
    "    * Print a statement of the form `\"[name] has [coins] coins and the following items:\"` where [name] should be replaced by the `Player` object's `name` attribute and [coins] should be replaced by the `Player` object's `coins` attribute\n",
    "    * Print the `Player` object's `inventory` attribute\n",
    "    \n",
    "\n",
    "* Create a `transaction()` method which has the argument all class methods have as well as the arguments `buyer_name` (string), `seller_name` (string), `item`, `price`, and `quantity` in that order. The goal of the transaction method is for the buyer to purchase a specified quantity of an item at the specified price per item. The `transaction()` method should do the following:\n",
    "    * Check if the buyer can afford the purchase (i.e. has at least `quantity*price` coins) using the buyer `Player` object's `can_afford()` method\n",
    "    * Check if the seller has at least `quantity` of the `item` using the seller `Player` object's `has_items()` method\n",
    "    * If both conditions are met, use the buyer `Player` object's `buy_items()` method and the seller `Player` object's `sell_items()` method to execute the transaction\n",
    "    * If either condition is not met, display the message `\"Error: Transaction cannot be completed\"`.\n",
    "    \n",
    "\n",
    "This may seem intimidating at first, but don't panic. The cell below the cell for the `MarketPlace` Class code has code that can be used to test out your `MarketPlace` Class code. I recommend first creating stub functions for the methods. Then, you can write the methods in the order above and test them out one at a time. Of course, you can work on this question however you'd like.\n",
    "\n",
    "Also, feel free to refer back to the `Zoo.py` file from the Day-07 ICA if you need help figuring out how to store names and objects in a dictionary."
   ]
  },
  {
   "cell_type": "code",
   "execution_count": null,
   "metadata": {},
   "outputs": [],
   "source": [
    "# Put your MarketPlace Class code here"
   ]
  },
  {
   "cell_type": "markdown",
   "metadata": {},
   "source": [
    "&#9989; **Do this**: Run the cell below to test out your code, but **DO NOT modify it.** If you want to run other tests, feel free to add a new cell and write some code for testing there."
   ]
  },
  {
   "cell_type": "code",
   "execution_count": null,
   "metadata": {},
   "outputs": [],
   "source": [
    "### RUN THIS CELL, BUT DO NOT MODIFY IT\n",
    "### RUN THIS CELL, BUT DO NOT MODIFY IT\n",
    "# Create Alice and give her 100 coins and 2 swords\n",
    "alice = Player(\"Alice\",100)\n",
    "alice.add_items(\"sword\",2)\n",
    "# Create Bob and give him 100 coins, 3 potions and 1 shield\n",
    "bob = Player(\"Bob\",100)\n",
    "bob.add_items(\"potion\",3)\n",
    "bob.add_items(\"shield\",1)\n",
    "# Create a new MarketPlace and print the empty players dictionary\n",
    "market = MarketPlace()\n",
    "print(market.players)\n",
    "\n",
    "# Add Alice and Bob to the MarketPlace and print the players dictionary\n",
    "market.add_player(alice)\n",
    "market.add_player(bob)\n",
    "print(market.players)\n",
    "\n",
    "# Display the status of the MarketPlace\n",
    "market.disp_status()\n",
    "\n",
    "# Have Alice buy 2 potions from Bob for 10 coins each\n",
    "market.transaction(\"Alice\",\"Bob\",\"potion\",10,2)\n",
    "market.disp_status()\n",
    "\n",
    "# Have Bob attempt and fail to buy a shield from Alice (since she doesn't have a shield)\n",
    "market.transaction(\"Bob\",\"Alice\",\"shield\",20,1)\n",
    "market.disp_status()\n",
    "\n",
    "# Have Bob attempt and fail to buy 3 swords from Alice (since she has only two swords)\n",
    "market.transaction(\"Bob\",\"Alice\",\"sword\",20,3)\n",
    "market.disp_status()\n",
    "\n",
    "# Have Bob attempt and fail to buy 1 sword from Alice for 200 coins (since Bob doesn't have enough coins)\n",
    "market.transaction(\"Bob\",\"Alice\",\"sword\",200,1)\n",
    "market.disp_status()\n",
    "\n",
    "# Have Bob buy 1 sword from Alice for 50 coins\n",
    "market.transaction(\"Bob\",\"Alice\",\"sword\",50,1)\n",
    "market.disp_status()\n",
    "### RUN THIS CELL, BUT DO NOT MODIFY IT\n",
    "### RUN THIS CELL, BUT DO NOT MODIFY IT"
   ]
  },
  {
   "cell_type": "markdown",
   "metadata": {},
   "source": [
    "If everything worked correctly, Alice should end with 130 coins, 1 sword, and 2 potions, while Bob should end up with 70 coins, 1 potion, 1 shield, and 1 sword."
   ]
  },
  {
   "cell_type": "markdown",
   "metadata": {},
   "source": [
    "---\n",
    "### &#128721; STOP\n",
    "**Pause to commit your changes to your Git repository!**\n",
    "\n",
    "Take a moment to save your notebook, commit the changes to your Git repository using the commit message \"**Committing Part 4**\", and push the changes to GitHub.\n",
    "\n",
    "---"
   ]
  },
  {
   "cell_type": "markdown",
   "metadata": {},
   "source": [
    "## You're done! Congrats on finishing your CMSE 202 Midterm!\n",
    "\n",
    "Make sure all of your changes to your repository are committed and pushed to GitHub. Also upload a copy of this notebook to the dropbox on D2L in case something went wrong with your repository or if you couldn't get the repository to work."
   ]
  }
 ],
 "metadata": {
  "kernelspec": {
   "display_name": "Python 3 (ipykernel)",
   "language": "python",
   "name": "python3"
  },
  "language_info": {
   "codemirror_mode": {
    "name": "ipython",
    "version": 3
   },
   "file_extension": ".py",
   "mimetype": "text/x-python",
   "name": "python",
   "nbconvert_exporter": "python",
   "pygments_lexer": "ipython3",
   "version": "3.9.12"
  }
 },
 "nbformat": 4,
 "nbformat_minor": 4
}
